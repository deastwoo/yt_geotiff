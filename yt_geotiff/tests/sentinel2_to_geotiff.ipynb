{
 "cells": [
  {
   "cell_type": "code",
   "execution_count": 1,
   "metadata": {},
   "outputs": [],
   "source": [
    "from sentinelsat import SentinelAPI, read_geojson, geojson_to_wkt\n",
    "import zipfile\n",
    "import glob\n",
    "import rasterio"
   ]
  },
  {
   "cell_type": "markdown",
   "metadata": {},
   "source": [
    "### Download the data"
   ]
  },
  {
   "cell_type": "code",
   "execution_count": 2,
   "metadata": {},
   "outputs": [],
   "source": [
    "# Copernicus scihub login details\n",
    "user = 'username'\n",
    "password = 'password'"
   ]
  },
  {
   "cell_type": "code",
   "execution_count": 3,
   "metadata": {},
   "outputs": [],
   "source": [
    "api = SentinelAPI(\n",
    "    user=user,\n",
    "    password=password,\n",
    "    api_url=\"https://scihub.copernicus.eu/dhus/\",\n",
    ")\n",
    "\n",
    "geojson = read_geojson('footprint.geojson')\n",
    "footprint = geojson_to_wkt(geojson)\n",
    "date = ('NOW-30DAYS','NOW')\n",
    "producttype = 'S2MSI2A'\n",
    "\n",
    "products = api.query(footprint, date=date, producttype=producttype)"
   ]
  },
  {
   "cell_type": "code",
   "execution_count": 4,
   "metadata": {},
   "outputs": [],
   "source": [
    "product_df = api.to_dataframe(products)\\\n",
    "                .sort_values(['cloudcoverpercentage', 'ingestiondate'], ascending=[True, True])\\\n",
    "                .head(1)"
   ]
  },
  {
   "cell_type": "code",
   "execution_count": 5,
   "metadata": {},
   "outputs": [
    {
     "data": {
      "text/html": [
       "<div>\n",
       "<style scoped>\n",
       "    .dataframe tbody tr th:only-of-type {\n",
       "        vertical-align: middle;\n",
       "    }\n",
       "\n",
       "    .dataframe tbody tr th {\n",
       "        vertical-align: top;\n",
       "    }\n",
       "\n",
       "    .dataframe thead th {\n",
       "        text-align: right;\n",
       "    }\n",
       "</style>\n",
       "<table border=\"1\" class=\"dataframe\">\n",
       "  <thead>\n",
       "    <tr style=\"text-align: right;\">\n",
       "      <th></th>\n",
       "      <th>cloudcoverpercentage</th>\n",
       "      <th>ingestiondate</th>\n",
       "    </tr>\n",
       "  </thead>\n",
       "  <tbody>\n",
       "    <tr>\n",
       "      <th>ff66dbd5-46d4-4d3b-a8e7-07fa9517526e</th>\n",
       "      <td>18.800721</td>\n",
       "      <td>2020-05-27 20:22:46.994</td>\n",
       "    </tr>\n",
       "  </tbody>\n",
       "</table>\n",
       "</div>"
      ],
      "text/plain": [
       "                                      cloudcoverpercentage  \\\n",
       "ff66dbd5-46d4-4d3b-a8e7-07fa9517526e             18.800721   \n",
       "\n",
       "                                               ingestiondate  \n",
       "ff66dbd5-46d4-4d3b-a8e7-07fa9517526e 2020-05-27 20:22:46.994  "
      ]
     },
     "execution_count": 5,
     "metadata": {},
     "output_type": "execute_result"
    }
   ],
   "source": [
    "product_df[['cloudcoverpercentage', 'ingestiondate']] # hopefully we have a scotland image with little cloud."
   ]
  },
  {
   "cell_type": "code",
   "execution_count": 6,
   "metadata": {},
   "outputs": [
    {
     "data": {
      "text/plain": [
       "(OrderedDict([('ff66dbd5-46d4-4d3b-a8e7-07fa9517526e',\n",
       "               {'id': 'ff66dbd5-46d4-4d3b-a8e7-07fa9517526e',\n",
       "                'title': 'S2B_MSIL2A_20200527T113319_N0214_R080_T30VVH_20200527T140542',\n",
       "                'size': 1152621303,\n",
       "                'md5': 'EF0BEE8E84C532F1680FBB0EC288C698',\n",
       "                'date': datetime.datetime(2020, 5, 27, 11, 33, 19, 24000),\n",
       "                'footprint': 'POLYGON((-4.639557 56.833046680181816,-2.8399963 56.843709329150045,-2.8440857 55.85722237128517,-4.597809 55.84694811162493,-4.639557 56.833046680181816))',\n",
       "                'url': \"https://scihub.copernicus.eu/dhus/odata/v1/Products('ff66dbd5-46d4-4d3b-a8e7-07fa9517526e')/$value\",\n",
       "                'Online': True,\n",
       "                'Creation Date': datetime.datetime(2020, 5, 27, 20, 23, 28, 248000),\n",
       "                'Ingestion Date': datetime.datetime(2020, 5, 27, 20, 22, 46, 994000),\n",
       "                'path': './S2B_MSIL2A_20200527T113319_N0214_R080_T30VVH_20200527T140542.zip',\n",
       "                'downloaded_bytes': 0})]),\n",
       " OrderedDict(),\n",
       " set())"
      ]
     },
     "execution_count": 6,
     "metadata": {},
     "output_type": "execute_result"
    }
   ],
   "source": [
    "api.download_all(product_df.index)"
   ]
  },
  {
   "cell_type": "markdown",
   "metadata": {},
   "source": [
    "### Unzip and export 20m resolution bands to GeoTIFF"
   ]
  },
  {
   "cell_type": "code",
   "execution_count": 7,
   "metadata": {},
   "outputs": [],
   "source": [
    "s2zipfile = product_df.title.tolist()[0] + '.zip'\n",
    "with zipfile.ZipFile(s2zipfile, 'r') as zip_ref:\n",
    "    zip_ref.extractall('.')\n",
    "s2ds = product_df.title.tolist()[0] + '.SAFE'"
   ]
  },
  {
   "cell_type": "code",
   "execution_count": 12,
   "metadata": {},
   "outputs": [],
   "source": [
    "s2r20m_files = sorted(glob.glob(s2ds + '/GRANULE/**/IMG_DATA/R20m/*_20m.jp2', recursive=True))"
   ]
  },
  {
   "cell_type": "code",
   "execution_count": 13,
   "metadata": {},
   "outputs": [],
   "source": [
    "bands = {}\n",
    "ignored_bands = ['AOT', 'TCI', 'WVP', 'SCL'] # we just want the numbered bands\n",
    "for f in s2r20m_files:\n",
    "    label = f.split('_')[-2]\n",
    "    if any([label == ignored_band for ignored_band in ignored_bands]): continue\n",
    "    bands[label] = rasterio.open(f, driver='JP2OpenJPEG')"
   ]
  },
  {
   "cell_type": "code",
   "execution_count": 15,
   "metadata": {},
   "outputs": [],
   "source": [
    "#export multiband geotiff image\n",
    "filename = product_df.title.tolist()[0] + '_20m.tif'\n",
    "geotiff = rasterio.open(filename,'w',driver='Gtiff',\n",
    "                         width=bands['B04'].width, height=bands['B04'].height,\n",
    "                         count=len(bands.keys()),\n",
    "                         crs=bands['B04'].crs,\n",
    "                         transform=bands['B04'].transform,\n",
    "                         dtype=bands['B04'].dtypes[0]\n",
    "                         )\n",
    "for i, label in enumerate(bands.keys()):\n",
    "    geotiff.write(bands[label].read(1), i + 1)\n",
    "geotiff.close()"
   ]
  },
  {
   "cell_type": "code",
   "execution_count": 16,
   "metadata": {},
   "outputs": [
    {
     "data": {
      "text/plain": [
       "['B02', 'B03', 'B04', 'B05', 'B06', 'B07', 'B11', 'B12', 'B8A']"
      ]
     },
     "execution_count": 16,
     "metadata": {},
     "output_type": "execute_result"
    }
   ],
   "source": [
    "list(bands.keys()) # this order"
   ]
  },
  {
   "cell_type": "markdown",
   "metadata": {},
   "source": [
    "We have produced a geotiff from the Sentinel 2 20m resolution data we downloaded. The next step could be to load it into yt and see what we get!"
   ]
  }
 ],
 "metadata": {
  "kernelspec": {
   "display_name": "Python 3",
   "language": "python",
   "name": "python3"
  },
  "language_info": {
   "codemirror_mode": {
    "name": "ipython",
    "version": 3
   },
   "file_extension": ".py",
   "mimetype": "text/x-python",
   "name": "python",
   "nbconvert_exporter": "python",
   "pygments_lexer": "ipython3",
   "version": "3.8.2"
  }
 },
 "nbformat": 4,
 "nbformat_minor": 4
}
